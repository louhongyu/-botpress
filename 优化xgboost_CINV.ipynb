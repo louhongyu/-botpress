{
  "nbformat": 4,
  "nbformat_minor": 0,
  "metadata": {
    "colab": {
      "provenance": [],
      "authorship_tag": "ABX9TyOdW0SMrqkBjXVXzCKJtwzB",
      "include_colab_link": true
    },
    "kernelspec": {
      "name": "python3",
      "display_name": "Python 3"
    },
    "language_info": {
      "name": "python"
    }
  },
  "cells": [
    {
      "cell_type": "markdown",
      "metadata": {
        "id": "view-in-github",
        "colab_type": "text"
      },
      "source": [
        "<a href=\"https://colab.research.google.com/github/louhongyu/-botpress/blob/master/%E4%BC%98%E5%8C%96xgboost_CINV.ipynb\" target=\"_parent\"><img src=\"https://colab.research.google.com/assets/colab-badge.svg\" alt=\"Open In Colab\"/></a>"
      ]
    },
    {
      "cell_type": "code",
      "execution_count": 2,
      "metadata": {
        "colab": {
          "base_uri": "https://localhost:8080/",
          "height": 859
        },
        "id": "qUDkzgR-q2ZT",
        "outputId": "173c55bc-e52d-4d7e-f5eb-93248f5eeecc"
      },
      "outputs": [
        {
          "metadata": {
            "tags": null
          },
          "name": "stdout",
          "output_type": "stream",
          "text": [
            "Fitting 5 folds for each of 4374 candidates, totalling 21870 fits\n"
          ]
        },
        {
          "output_type": "stream",
          "name": "stderr",
          "text": [
            "/usr/local/lib/python3.10/dist-packages/xgboost/core.py:158: UserWarning: [15:37:11] WARNING: /workspace/src/learner.cc:740: \n",
            "Parameters: { \"use_label_encoder\" } are not used.\n",
            "\n",
            "  warnings.warn(smsg, UserWarning)\n"
          ]
        },
        {
          "output_type": "stream",
          "name": "stdout",
          "text": [
            "Best parameters found by GridSearchCV:\n",
            "{'colsample_bytree': 0.7, 'gamma': 0.1, 'learning_rate': 0.05, 'max_depth': 7, 'min_child_weight': 1, 'n_estimators': 100, 'scale_pos_weight': 1, 'subsample': 0.9}\n",
            "Classification Report with Adjusted Threshold (XGBoost):\n",
            "              precision    recall  f1-score   support\n",
            "\n",
            "           0       0.94      0.84      0.89        76\n",
            "           1       0.82      0.93      0.87        60\n",
            "\n",
            "    accuracy                           0.88       136\n",
            "   macro avg       0.88      0.89      0.88       136\n",
            "weighted avg       0.89      0.88      0.88       136\n",
            "\n"
          ]
        },
        {
          "output_type": "display_data",
          "data": {
            "text/plain": [
              "<Figure size 800x600 with 1 Axes>"
            ],
            "image/png": "[encoded data removed]"
          },
          "metadata": {}
        }
      ],
      "source": [
        "import pandas as pd\n",
        "import numpy as np\n",
        "from sklearn.preprocessing import StandardScaler\n",
        "from sklearn.model_selection import train_test_split, GridSearchCV\n",
        "from sklearn.metrics import classification_report, confusion_matrix\n",
        "from imblearn.combine import SMOTETomek\n",
        "import xgboost as xgb\n",
        "import matplotlib.pyplot as plt\n",
        "import seaborn as sns\n",
        "\n",
        "\n",
        "# 1.加载数据\n",
        "file_path = '/content/0726邓军数据.xlsx'\n",
        "clean_sheet_data = pd.read_excel(file_path, sheet_name='clean')\n",
        "\n",
        "# 2. 数据标准化\n",
        "continuous_columns = ['年龄', '身高', '体重', '体表面积', 'KPS评分', '睡眠时间', '其他症状数量', '伴随症状数量', '疗程数', '化疗天数', '儿童致吐风险']\n",
        "scaler = StandardScaler()\n",
        "clean_sheet_data_scaled = clean_sheet_data.copy()\n",
        "clean_sheet_data_scaled[continuous_columns] = scaler.fit_transform(clean_sheet_data[continuous_columns])\n",
        "\n",
        "# 3. 特征选择（使用随机森林）\n",
        "X = clean_sheet_data_scaled.drop(columns=['预期性二分类', '急性二分类', '延迟性二分类', '总二分类']).values\n",
        "y = clean_sheet_data['预期性二分类'].values\n",
        "\n",
        "# 4. 使用SMOTETomek进行数据重采样\n",
        "smote_tomek = SMOTETomek(random_state=42)\n",
        "X_resampled, y_resampled = smote_tomek.fit_resample(X, y)\n",
        "\n",
        "# 5. 数据分割\n",
        "X_train, X_test, y_train, y_test = train_test_split(X_resampled, y_resampled, test_size=0.2, random_state=42)\n",
        "\n",
        "# 6. 定义XGBoost模型和参数网格\n",
        "xgb_model = xgb.XGBClassifier(random_state=42, use_label_encoder=False, eval_metric='logloss')\n",
        "param_grid = {\n",
        "    'max_depth': [3, 5, 7],\n",
        "    'learning_rate': [0.01, 0.05, 0.1],\n",
        "    'n_estimators': [100, 200, 300],\n",
        "    'gamma': [0, 0.1, 0.3],\n",
        "    'min_child_weight': [1, 3, 5],\n",
        "    'subsample': [0.7, 0.8, 0.9],\n",
        "    'colsample_bytree': [0.7, 0.8, 0.9],\n",
        "    'scale_pos_weight': [1, len(y_train) / sum(y_train)]\n",
        "}\n",
        "\n",
        "# 7. 使用GridSearchCV进行超参数优化\n",
        "grid_search = GridSearchCV(estimator=xgb_model, param_grid=param_grid, scoring='f1', cv=5, n_jobs=-1, verbose=2)\n",
        "grid_search.fit(X_train, y_train)\n",
        "\n",
        "# 8. 打印最佳参数\n",
        "print(\"Best parameters found by GridSearchCV:\")\n",
        "print(grid_search.best_params_)\n",
        "\n",
        "# 9. 使用最佳参数训练模型\n",
        "best_xgb_model = grid_search.best_estimator_\n",
        "best_xgb_model.fit(X_train, y_train)\n",
        "y_pred_proba = best_xgb_model.predict_proba(X_test)[:, 1]\n",
        "\n",
        "# 10. 调整阈值\n",
        "threshold = 0.3  # 根据需要调整阈值\n",
        "y_pred_adjusted = (y_pred_proba >= threshold).astype(int)\n",
        "\n",
        "# 11. 评估\n",
        "print('Classification Report with Adjusted Threshold (XGBoost):')\n",
        "print(classification_report(y_test, y_pred_adjusted, zero_division=1))\n",
        "\n",
        "# 12. 混淆矩阵\n",
        "conf_matrix = confusion_matrix(y_test, y_pred_adjusted)\n",
        "plt.figure(figsize=(8, 6))\n",
        "sns.heatmap(conf_matrix, annot=True, fmt='d', cmap='Blues', cbar=False)\n",
        "plt.xlabel('Predicted')\n",
        "plt.ylabel('Actual')\n",
        "plt.title('Confusion Matrix')\n",
        "plt.show()\n"
      ]
    }
  ]
}